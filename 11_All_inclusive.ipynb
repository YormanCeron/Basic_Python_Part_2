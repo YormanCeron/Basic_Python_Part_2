{
 "cells": [
  {
   "cell_type": "markdown",
   "id": "f2acd83b",
   "metadata": {},
   "source": [
    "### Exercise 1\n",
    "\n",
    "Write a program that calculates the day of the week for any date after 1582 (i.e., since the Gregorian calendar has been used) using the following algorithm:\n",
    "\n",
    "A is the quotient of the division of 14 minus the month by 12,\n",
    "B is the year minus A,\n",
    "C is the month plus twelve times A minus 2,\n",
    "D is the quotient of the division of B by 4,\n",
    "E is the quotient of the division of B by 100,\n",
    "F is the quotient of the division of B by 400,\n",
    "G is the quotient of 31 times C by 12,\n",
    "H is the day plus B plus D minus E plus F plus G,\n",
    "I is the remainder of the division of H by 7.\n",
    "\n",
    "If I is 0, the day falls on Sunday; if I is 1, the day falls on Monday; if I is 2, the day falls on Tuesday, and so on.\n",
    "\n",
    "The program does not need to check whether the entered date is correct (beyond the year being after 1582)."
   ]
  },
  {
   "cell_type": "code",
   "execution_count": null,
   "id": "1107ce48",
   "metadata": {},
   "outputs": [],
   "source": [
    "day = int(input(\"Enter the day: \"))\n",
    "month = int(input(\"Enter the month: \"))\n",
    "year = int(input(\"Enter the year: \"))\n",
    "A = (14-month)//12\n",
    "B = year-A\n",
    "C = month+(12*A)-2\n",
    "D = B//4\n",
    "E = B//100\n",
    "F = B//400\n",
    "G = (31*C)//12\n",
    "H = day+B+D-E+F+G\n",
    "I = H%7\n",
    "if I == 0:\n",
    "    print(\"That date was sunday.\")\n",
    "elif I == 1:\n",
    "    print(\"That date was monday.\")\n",
    "elif I == 2:\n",
    "    print(\"That date was thusday.\")\n",
    "elif I == 3:\n",
    "    print(\"That date was wensday.\")\n",
    "elif I == 4:\n",
    "    print(\"That date was Thusday.\")\n",
    "elif I == 5:\n",
    "    print(\"That date was friday.\")\n",
    "elif I == 6:\n",
    "    print(\"That date was saturday\")"
   ]
  },
  {
   "cell_type": "markdown",
   "id": "b4c5cfa1",
   "metadata": {},
   "source": [
    "### Exercise 2\n",
    "\n",
    "Write a program that calculates the first control digit of a bank account, which corresponds to the entity and office code.\n",
    "\n",
    "The four digits of the entity code are multiplied, from left to right, by 4, 8, 5, and 10, respectively.\n",
    "\n",
    "The four digits of the office number are multiplied, from left to right, by 9, 7, 3, and 6, respectively.\n",
    "\n",
    "The results of the previous multiplications are summed.\n",
    "\n",
    "Divide the sum by 11 and take the remainder.\n",
    "\n",
    "The control digit is the difference between 11 and the previous remainder. If the result is 10, the control digit is 1. If the result is 11, the control digit is 0.\n",
    "\n",
    "Example control digits: 0375 1281 → 3; 0038 3676 → 1; 9517 5646 → 0; 8194 7118 → 7"
   ]
  },
  {
   "cell_type": "code",
   "execution_count": null,
   "id": "233e81ee",
   "metadata": {},
   "outputs": [],
   "source": [
    "num_ent_1 = int(input(\"Enter the first company number: \"))\n",
    "num_ent_2 = int(input(\"Enter the second company number: \"))\n",
    "num_ent_3 = int(input(\"Enter the third company number: \"))\n",
    "num_ent_4 = int(input(\"Enter the fourth company number: \")) \n",
    "\n",
    "if num_ent_1 < 0 or num_ent_2 < 0 or num_ent_3 < 0 or num_ent_4 < 0:\n",
    "    print(\"Some number is not valid, only positive number.\")\n",
    "else:\n",
    "    print(\"Well, keep going.\")\n",
    "    num_of_1 = int(input(\"Enter the first office number: \"))\n",
    "    num_of_2 = int(input(\"Enter the second office number: \"))\n",
    "    num_of_3 = int(input(\"Enter the third office number: \"))\n",
    "    num_of_4 = int(input(\"Enter the fourth office number: \"))\n",
    "    if num_of_1 < 0 or num_of_2 < 0 or num_of_3 < 0 or num_of_4 < 0:\n",
    "        print(\"Some number is not valid, only positive number.\")\n",
    "    else:\n",
    "        print(\"Well.\")\n",
    "        ent = num_ent_1*4 + num_ent_2*8 + num_ent_3*5 + num_ent_4*10\n",
    "        of = num_of_1*9 + num_of_2*7 + num_of_3*3 + num_of_4*6\n",
    "        suma = ent + of\n",
    "        rest = suma%11\n",
    "        dc = 11-rest\n",
    "        if dc == 10:\n",
    "            print(\"the digital control is 1.\")\n",
    "        elif dc == 11:\n",
    "            print(\"The digital control is 0.\")\n",
    "        else:\n",
    "            print(\"The digital control is\", dc)"
   ]
  },
  {
   "cell_type": "markdown",
   "id": "6a5171d6",
   "metadata": {},
   "source": [
    "### Exercise 3\n",
    "\n",
    "Write a program that converts centimeters to kens and shakus, Japanese units of length.\n",
    "\n",
    "Recall that one ken equals six shakus, and one shaku is 30.3 cm.\n",
    "\n",
    "If a non-positive number is entered, the program should display an error message. Display the result in shakus with two decimal places."
   ]
  },
  {
   "cell_type": "code",
   "execution_count": null,
   "id": "d2311a0f",
   "metadata": {},
   "outputs": [],
   "source": [
    "cm = float(input(\"Enter the amount in centimeters: \"))\n",
    "\n",
    "if cm > 0:\n",
    "    shaku = round(cm/30.3 , 2)\n",
    "    ken = round(shaku/6 , 2)\n",
    "    print(cm,\"centimeters are\",shaku,\"Shakus and\",ken,\"Kens.\")\n",
    "else:\n",
    "    print(\"Error, the amount would be positive.\")"
   ]
  },
  {
   "cell_type": "markdown",
   "id": "46f5a7e4",
   "metadata": {},
   "source": [
    "### Exercise 4\n",
    "\n",
    "Write a program that converts pennies to crowns, shillings, and pounds.\n",
    "\n",
    "For those who haven’t read Just William, recall that before the decimal system, one pound was 20 shillings, one shilling was 12 pennies, and one crown was 5 pennies."
   ]
  },
  {
   "cell_type": "code",
   "execution_count": null,
   "id": "83ef6c77",
   "metadata": {},
   "outputs": [],
   "source": [
    "peniques = float(input(\"Enter the amount in peniques: \"))\n",
    "\n",
    "if peniques > 0:\n",
    "    corona = peniques/5\n",
    "    chelines = peniques/12\n",
    "    libras = chelines / 20\n",
    "    print(peniques,\"peniques are\",corona,\"Coronas, \",chelines,\"Chelines, and \",libras,\"Libras.\")\n",
    "else:\n",
    "    print(\"Error, the amount would be positive.\")"
   ]
  },
  {
   "cell_type": "markdown",
   "id": "53ee603a",
   "metadata": {},
   "source": [
    "### Ejercicio 5\n",
    "\n",
    "Write a program that asks for the width and height of a rectangle and then prints its area, perimeter, and the length of its diagonal.\n",
    "\n",
    "Note: Recall that, according to the Pythagorean theorem, the relationship between the diagonal and the sides of a rectangle is \n",
    "diagonal2 = width2 + height2 Also, recall that the square root of a number is the number raised to 0.5."
   ]
  },
  {
   "cell_type": "code",
   "execution_count": null,
   "id": "de6592d4",
   "metadata": {},
   "outputs": [],
   "source": [
    "anchura = float(input(\"Input the width of the rectangle: \"))\n",
    "altura = float(input(\"Input the height of the rectangle: \"))\n",
    "if anchura > 0 and altura > 0:\n",
    "    area = anchura * altura\n",
    "    perimetro = 2*(anchura+altura)\n",
    "    diagonal = round((anchura**2 + altura**2)**0.5 , 2)\n",
    "    print(\"Area: \",area)\n",
    "    print(\"Perimeter: \",perimetro)\n",
    "    print(\"Diagonal: \",diagonal)\n",
    "else:\n",
    "    print(\"Input positive values only.\")"
   ]
  },
  {
   "cell_type": "markdown",
   "id": "c75775c5",
   "metadata": {},
   "source": []
  }
 ],
 "metadata": {
  "kernelspec": {
   "display_name": "Python 3",
   "language": "python",
   "name": "python3"
  },
  "language_info": {
   "codemirror_mode": {
    "name": "ipython",
    "version": 3
   },
   "file_extension": ".py",
   "mimetype": "text/x-python",
   "name": "python",
   "nbconvert_exporter": "python",
   "pygments_lexer": "ipython3",
   "version": "3.8.8"
  }
 },
 "nbformat": 4,
 "nbformat_minor": 5
}
