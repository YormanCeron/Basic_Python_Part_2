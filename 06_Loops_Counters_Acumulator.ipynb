{
 "cells": [
  {
   "cell_type": "markdown",
   "id": "638f5838",
   "metadata": {},
   "source": [
    "# A. Loops"
   ]
  },
  {
   "cell_type": "markdown",
   "id": "433abdb3",
   "metadata": {},
   "source": [
    "### Exercise 1\n",
    "\n",
    "Write a code that asks for two integer numbers and displays which of them are even and wich of them are odd from the first to the second."
   ]
  },
  {
   "cell_type": "code",
   "execution_count": null,
   "id": "6d3ca438",
   "metadata": {},
   "outputs": [],
   "source": [
    "n1 = 0\n",
    "n2 = 0\n",
    "i = 0\n",
    "lista = 0\n",
    "\n",
    "n1 = int(input(\"Input an integer number: \"))\n",
    "n2 = int(input(\"input an integer number greater than first: \"))\n",
    "\n",
    "if n1 <= n2:\n",
    "    lista = list(range(n1,n2+1))\n",
    "    for i in lista:\n",
    "        if i % 2 == 0:\n",
    "            print(f\"{i} is even.\")\n",
    "        else:\n",
    "            print(f\"{i} is odd.\")\n",
    "        i += 1   \n",
    "else:\n",
    "    print(f\"{n2} is not greater than {1}.\")"
   ]
  },
  {
   "cell_type": "markdown",
   "id": "750972d2",
   "metadata": {},
   "source": [
    "### Exercise 2\n",
    "\n",
    "Write a code that asks for an integer number greater than zero and displays its divisors."
   ]
  },
  {
   "cell_type": "code",
   "execution_count": null,
   "id": "485c51b9",
   "metadata": {},
   "outputs": [],
   "source": [
    "n = 0\n",
    "lista = 0\n",
    "resto = []\n",
    "i = 0\n",
    "\n",
    "n = int(input(\"Input an integer number greater than zero: \"))\n",
    "\n",
    "if n > 0:\n",
    "    lista = list(range(1,n+1))\n",
    "    for i in lista:\n",
    "        if n % i == 0:\n",
    "            resto.append(i)\n",
    "    print(f\"The divisors of {n} are: {resto}\")   \n",
    "else:\n",
    "    print(\"The value is not greater than zero.\")"
   ]
  },
  {
   "cell_type": "markdown",
   "id": "38e529b8",
   "metadata": {},
   "source": [
    "### Example 3\n",
    "\n",
    "Write a program that asks how many numbers will be entered, requests those numbers, and displays a message each time a number is not greater than the first one."
   ]
  },
  {
   "cell_type": "code",
   "execution_count": null,
   "id": "cbfffdb5",
   "metadata": {},
   "outputs": [],
   "source": [
    "n = 0 \n",
    "n1 = 0\n",
    "n2 = 0\n",
    "i = 0\n",
    "\n",
    "n = int(input(\"How many numbers do you want enter?: \"))\n",
    "n1 = int(input(\"Input a number: \"))\n",
    "         \n",
    "for i in range(n-1):\n",
    "    n2 = int(input((f\"input a number greater than {n1}: \")))\n",
    "    while n1 > n2:\n",
    "        print(f\"{n2} is not greater than {n1}\")\n",
    "        n2 = int(input((f\"input a number greater than {n1}: \")))\n",
    "print(\"Perfect.\")"
   ]
  },
  {
   "cell_type": "markdown",
   "id": "3a6ae85d",
   "metadata": {},
   "source": [
    "### Exercise 4\n",
    "\n",
    "Write a program that asks how many numbers will be entered, requests those numbers, and displays a message each time a number is not greater than the previous one."
   ]
  },
  {
   "cell_type": "code",
   "execution_count": null,
   "id": "80e54ee4",
   "metadata": {},
   "outputs": [],
   "source": [
    "n = 0 \n",
    "n1 = 0\n",
    "n2 = 0\n",
    "x = 0\n",
    "\n",
    "n = int(input(\"¿How many numbers do you want enter?: \"))\n",
    "if n > 0:\n",
    "    n1 = int(input(\"input a number: \"))\n",
    "    x = n1\n",
    "    for i in range(n-1):\n",
    "        n2 = int(input(f\"Input a number greater than {x}: \"))\n",
    "        while x >= n2:\n",
    "            print(f\"{n2} is not greater than {x}.\")\n",
    "            n2 = int(input(f\"Input a number greater than {x}: \"))\n",
    "        x = n2\n",
    "    print(\"Perfect.\")\n",
    "else:\n",
    "    print(\"Imposible.\")"
   ]
  },
  {
   "cell_type": "markdown",
   "id": "87a68699",
   "metadata": {},
   "source": [
    "# B. Counters"
   ]
  },
  {
   "cell_type": "markdown",
   "id": "90cc08a8",
   "metadata": {},
   "source": [
    "### exercise 1\n",
    "\n",
    "Write a program that asks how many numbers will be entered, requests those numbers, and writes how many negative numbers have been entered."
   ]
  },
  {
   "cell_type": "code",
   "execution_count": null,
   "id": "973e6b6b",
   "metadata": {},
   "outputs": [],
   "source": [
    "n = 0 \n",
    "n1 = 0\n",
    "cont = 0\n",
    "\n",
    "n = int(input(\"How many number do you want enter?: \"))\n",
    "if n > 0:\n",
    "    for i in range(n):\n",
    "        n1 = int(input(\"input a number: \"))\n",
    "        if n1 < 0:\n",
    "            cont += 1\n",
    "    print(f\"You have entered {cont} negative number.\")\n",
    "else:\n",
    "    print(\"Imposible.\")"
   ]
  },
  {
   "cell_type": "markdown",
   "id": "eb66f515",
   "metadata": {},
   "source": [
    "### example 2\n",
    "\n",
    "Write a program that asks how many numbers will be entered, requests those numbers, and finally says how many were even and how many were odd."
   ]
  },
  {
   "cell_type": "code",
   "execution_count": null,
   "id": "ae01fa97",
   "metadata": {},
   "outputs": [],
   "source": [
    "n = 0 \n",
    "n1 = 0\n",
    "cont_par = 0\n",
    "cont_impar = 0\n",
    "\n",
    "n = int(input(\"How many number do you want enter?: \"))\n",
    "if n > 0:\n",
    "    for i in range(n):\n",
    "        n1 = int(input(\"input a number: \"))\n",
    "        if n1 % 2 == 0:\n",
    "            cont_par += 1\n",
    "        else:\n",
    "            cont_impar += 1\n",
    "    print(f\"You have entered {cont_par} even numbers.\")\n",
    "    print(f\"You have entered {cont_impar} odd numbers.\")\n",
    "else:\n",
    "    print(\"Imposible.\")"
   ]
  },
  {
   "cell_type": "markdown",
   "id": "534ca431",
   "metadata": {},
   "source": [
    "### Example 3\n",
    "\n",
    "Write a program that asks for an integer greater than 1 and prints whether the number is prime or not."
   ]
  },
  {
   "cell_type": "code",
   "execution_count": null,
   "id": "70889ea7",
   "metadata": {},
   "outputs": [],
   "source": [
    "n = 0\n",
    "cont = 0\n",
    "\n",
    "n = int(input(\"Input a integer number greater than 1: \"))\n",
    "if n > 1:\n",
    "    for i in range(1,n+1):\n",
    "        if n % i == 0:\n",
    "            cont += 1\n",
    "    if cont == 2:\n",
    "        print(f\"{n} is a prime number.\")\n",
    "    else:\n",
    "        print(f\"{n} is not a prime number.\")\n",
    "else:\n",
    "    print(\"The value is not greater than 1.\")"
   ]
  },
  {
   "cell_type": "markdown",
   "id": "94ba1983",
   "metadata": {},
   "source": [
    "# C. Acumulador"
   ]
  },
  {
   "cell_type": "markdown",
   "id": "a3f56b70",
   "metadata": {},
   "source": [
    "### Exercise 1\n",
    "\n",
    "Write a program that asks how many numbers are going to be entered, requests those numbers (which can be decimals), and calculates their sum."
   ]
  },
  {
   "cell_type": "code",
   "execution_count": null,
   "id": "cc058262",
   "metadata": {},
   "outputs": [],
   "source": [
    "n = 0\n",
    "n1 = 0\n",
    "suma = 0\n",
    "\n",
    "n = int(input(\"How many number do you want enter?: \"))\n",
    "if n > 0:\n",
    "    for i in range(n):\n",
    "        n1 = float(input(\"Number to add: \"))\n",
    "        suma += n1\n",
    "    print(suma)\n",
    "else:\n",
    "    print(\"The number must be greater than 0.\")\n"
   ]
  },
  {
   "cell_type": "markdown",
   "id": "084064c4",
   "metadata": {},
   "source": [
    "### Exercise 2\n",
    "\n",
    "Write a program that asks for two integers and prints the sum of all integers from the first number to the second."
   ]
  },
  {
   "cell_type": "code",
   "execution_count": null,
   "id": "e32f8ff2",
   "metadata": {},
   "outputs": [],
   "source": [
    "n1 = 0\n",
    "n2 = 0\n",
    "suma = 0\n",
    "\n",
    "n1 = int(input(\"input the first integer value: \"))\n",
    "n2 = int(input(\"input the second integer value: \"))\n",
    "\n",
    "for i in range(n1+1,n2):\n",
    "    suma += i\n",
    "print(f\"the sum from {n1} to {n2} is: {suma}.\")\n"
   ]
  },
  {
   "cell_type": "markdown",
   "id": "44c11055",
   "metadata": {},
   "source": [
    "### Exercise 2.2\n",
    "\n",
    "Improve the previous program so that it writes out the sum performed.\n",
    "\n",
    "Note:\n",
    "\n",
    "This program should include two for loops: one to calculate the sum, and then another to write the final line (showing the sum of all the numbers)."
   ]
  },
  {
   "cell_type": "code",
   "execution_count": null,
   "id": "7b7f426b",
   "metadata": {},
   "outputs": [],
   "source": [
    "n1 = 0\n",
    "n2 = 0\n",
    "suma = 0\n",
    "suma_1 = \"\"\n",
    "\n",
    "n1 = int(input(\"input the first integer value: \"))\n",
    "n2 = int(input(\"input the second integer valu: \"))\n",
    "\n",
    "for i in range(n1+1,n2):\n",
    "    suma += i\n",
    "for i in range(n1+1,n2-1):\n",
    "    suma_1 += str(i) + \" + \"\n",
    "suma_1 += str(n2-1)\n",
    "\n",
    "print(f\"the sum from {n1} to {n2} is: {suma}.\")\n",
    "print(f\"{suma_1} = {suma}.\")\n"
   ]
  },
  {
   "cell_type": "markdown",
   "id": "db982504",
   "metadata": {},
   "source": [
    "### Exercise 3\n",
    "\n",
    "Write a program that asks how many numbers will be entered, requests those numbers, and then writes the largest, the smallest, and the arithmetic mean.\n",
    "\n",
    "Recall that the arithmetic mean of a set of values is the sum of those values divided by the quantity of values."
   ]
  },
  {
   "cell_type": "code",
   "execution_count": null,
   "id": "c981ec4c",
   "metadata": {},
   "outputs": [],
   "source": [
    "n = 0 \n",
    "n1 = 0\n",
    "n2 = 0\n",
    "suma = 0\n",
    "n1_mayor = 0\n",
    "n1_menor = 0\n",
    "media = 0\n",
    "\n",
    "n = int(input(\"How many number do you want enter?: \"))\n",
    "if n > 0:\n",
    "    n1 = int(input(f\"input number 1: \"))\n",
    "    n1_mayor = n1\n",
    "    n1_menor = n1\n",
    "    for i in range(n-1):\n",
    "        n2 = int(input(f\"input number {i+2}: \"))\n",
    "        if n2 > n1_mayor:\n",
    "            n1_mayor = n2\n",
    "        else:\n",
    "            if n2 < n1_menor:\n",
    "                n1_menor = n2\n",
    "        suma += n2\n",
    "    suma += n1\n",
    "    media = round(suma/n , 2)       \n",
    "    print(f\"The greater value is {n1_mayor}.\")\n",
    "    print(f\"The smallest value is {n1_menor}.\")\n",
    "    print(f\"The arithmetic mean is {media}.\")\n",
    "else:\n",
    "    print(\"The number must be greater than zero.\")"
   ]
  },
  {
   "cell_type": "markdown",
   "id": "cefa5168",
   "metadata": {},
   "source": [
    "### Exercise 4\n",
    "\n",
    "Write a program that asks for an integer greater than zero and calculates its factorial."
   ]
  },
  {
   "cell_type": "code",
   "execution_count": null,
   "id": "1a8c894e",
   "metadata": {},
   "outputs": [],
   "source": [
    "n = 0 \n",
    "fact = 1\n",
    "\n",
    "n = int(input(\"Input a number greater than zero: \"))\n",
    "if n > 0:\n",
    "    for i in range(1,n+1):\n",
    "        fact = fact * i\n",
    "    print(f\"The factorial value of {n} is {fact}\")\n",
    "else:\n",
    "    print(\"The number must be greater than zero.\")"
   ]
  },
  {
   "cell_type": "code",
   "execution_count": null,
   "id": "07906f56",
   "metadata": {},
   "outputs": [],
   "source": []
  }
 ],
 "metadata": {
  "kernelspec": {
   "display_name": "Python 3 (ipykernel)",
   "language": "python",
   "name": "python3"
  },
  "language_info": {
   "codemirror_mode": {
    "name": "ipython",
    "version": 3
   },
   "file_extension": ".py",
   "mimetype": "text/x-python",
   "name": "python",
   "nbconvert_exporter": "python",
   "pygments_lexer": "ipython3",
   "version": "3.10.9"
  }
 },
 "nbformat": 4,
 "nbformat_minor": 5
}
