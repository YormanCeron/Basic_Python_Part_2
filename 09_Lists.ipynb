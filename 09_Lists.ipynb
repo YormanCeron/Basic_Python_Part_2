{
 "cells": [
  {
   "cell_type": "markdown",
   "id": "1c35f2d9-8071-433e-9f35-438b8af56b60",
   "metadata": {},
   "source": [
    "### Exercise 1\n",
    "\n",
    "Write a program that allows the creation of a list of words and then sorts the list in alphabetical order."
   ]
  },
  {
   "cell_type": "code",
   "execution_count": null,
   "id": "f2209e35-bcfb-4686-8528-67e368e015dc",
   "metadata": {},
   "outputs": [],
   "source": [
    "n = 0\n",
    "palabra = 0\n",
    "lista = []\n",
    "\n",
    "n = int(input(\"How many words would you like to enter?: \"))\n",
    "palabra = str(input(\"Input the first word: \"))\n",
    "lista.append(palabra)\n",
    "for i in range(n-1):\n",
    "    palabra = str(input(\"Input the next word: \"))\n",
    "    lista.append(palabra)\n",
    "print(f\"The list is: {lista}.\")\n",
    "lista.sort()\n",
    "print(f\"The sorted list is: {lista}.\")"
   ]
  },
  {
   "cell_type": "markdown",
   "id": "d52ba070-efa1-4228-855d-a642c48b4f94",
   "metadata": {},
   "source": [
    "### Exercise 2\n",
    "\n",
    "Write a program that asks for a number and then prints the list of all its divisors (including one and the number itself)."
   ]
  },
  {
   "cell_type": "code",
   "execution_count": null,
   "id": "b6368b33-707b-442b-b19b-2bf7dd0362e4",
   "metadata": {},
   "outputs": [],
   "source": [
    "n = 0\n",
    "m = 0\n",
    "divisor = 0\n",
    "lista = []\n",
    "\n",
    "n = int(input(\"Input a value greater than zero: \"))\n",
    "m = n\n",
    "if n > 0:\n",
    "    for n in range(1,n+1):\n",
    "        divisor = m%n\n",
    "        if divisor == 0:\n",
    "            lista.append(n)\n",
    "    \n",
    "    print(f\"{m} has {len(lista)} divisors: {lista}\")\n",
    "else:\n",
    "    print(\"The value is not greater than zero.\")\n"
   ]
  },
  {
   "cell_type": "markdown",
   "id": "3671c831-97d5-4771-9705-c6aad53dc993",
   "metadata": {},
   "source": [
    "### Exercise 3\n",
    "\n",
    "Write a program that asks for a number and then prints the list of all prime numbers up to that number."
   ]
  },
  {
   "cell_type": "code",
   "execution_count": null,
   "id": "ab687efc-fa8a-492e-90df-411eee452aaa",
   "metadata": {},
   "outputs": [],
   "source": [
    "n = 0\n",
    "lista = []\n",
    "div1 = 0\n",
    "div2 = 0\n",
    "suma1 = 0\n",
    "suma2 = 0\n",
    "\n",
    "n = int(input(\"Input a value greater than zero: \"))\n",
    "\n",
    "if n > 0:\n",
    "    for i in range(1,n+1):\n",
    "        div1 = n%i\n",
    "        if div1 == 0:\n",
    "            suma1 = suma1 + 1        \n",
    "    if suma1 == 2:\n",
    "        print(\"Is a prime number.\")\n",
    "    else:\n",
    "        print(\"Is not a prime number.\")\n",
    "else:\n",
    "    print(\"The value is not greater than zero.\") \n",
    "\n",
    "\n",
    "lista.append(1)\n",
    "for i in range(1,n+1):\n",
    "    for j in range(1,n+1):\n",
    "        div2 = i%j\n",
    "        if div2 == 0:\n",
    "            suma2 = suma2 + 1\n",
    "    if suma2 == 2:\n",
    "        lista.append(i)\n",
    "    suma2 = 0\n",
    "lista.append(n)\n",
    "print(f\"prime numbers to {n}: {lista}\")\n"
   ]
  },
  {
   "cell_type": "markdown",
   "id": "6d200689-097d-4d42-869d-d9956ccb2aa3",
   "metadata": {},
   "source": [
    "### Exercise 4\n",
    "\n",
    "Write a program that calculates the terms of a sequence of the type Un+1 = a Un + b. The program should ask for the values of a, b, U0 and the number of terms to calculate."
   ]
  },
  {
   "cell_type": "code",
   "execution_count": null,
   "id": "99b83968",
   "metadata": {},
   "outputs": [],
   "source": [
    "a = int(input(\"Input the value of a: \"))\n",
    "b = int(input(\"Input the value of b: \"))\n",
    "Un = int(input(\"Input the value of U(0): \"))\n",
    "ter = int(input(\"How many terms do you want?: \"))\n",
    "U = 0\n",
    "lista = []\n",
    "\n",
    "Uinicial = Un - 1 \n",
    "for i in range(ter):\n",
    "    U = a * Uinicial + b\n",
    "    lista.append(U)\n",
    "    Uinicial = U \n",
    "print(lista)"
   ]
  }
 ],
 "metadata": {
  "kernelspec": {
   "display_name": "Python 3",
   "language": "python",
   "name": "python3"
  },
  "language_info": {
   "codemirror_mode": {
    "name": "ipython",
    "version": 3
   },
   "file_extension": ".py",
   "mimetype": "text/x-python",
   "name": "python",
   "nbconvert_exporter": "python",
   "pygments_lexer": "ipython3",
   "version": "3.13.5"
  }
 },
 "nbformat": 4,
 "nbformat_minor": 5
}
