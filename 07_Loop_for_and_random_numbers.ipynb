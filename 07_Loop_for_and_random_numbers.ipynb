{
 "cells": [
  {
   "cell_type": "markdown",
   "id": "8b94b3a0",
   "metadata": {},
   "source": [
    "# A. Multiplication"
   ]
  },
  {
   "cell_type": "markdown",
   "id": "3c328a2f",
   "metadata": {},
   "source": [
    "### Exercise 1\n",
    "\n",
    "Write a program that generates a multiplication of two numbers from 2 to 10 at random, asks for the result, and tells whether the answer given is correct."
   ]
  },
  {
   "cell_type": "code",
   "execution_count": null,
   "id": "51bce43c",
   "metadata": {},
   "outputs": [],
   "source": [
    "import random\n",
    "\n",
    "a = 0\n",
    "b = 0\n",
    "mult = 0\n",
    "resp = 0\n",
    "\n",
    "a = random.randrange(2,11)\n",
    "b = random.randrange(2,11)\n",
    "\n",
    "mult = a * b\n",
    "\n",
    "resp = int(input(\"Which is the result of \" + str(a) + \" x \" + str(b) + \"?: \"))\n",
    "if mult == resp:\n",
    "    print(f\"Right, the result is {mult}.\")\n",
    "else:\n",
    "    print(f\"incorrect result. The result is: {mult}.\")"
   ]
  },
  {
   "cell_type": "markdown",
   "id": "5fae04a9",
   "metadata": {},
   "source": [
    "### Exercise 2\n",
    "\n",
    "Extend the previous program so that it first asks the user how many multiplications will be given."
   ]
  },
  {
   "cell_type": "code",
   "execution_count": null,
   "id": "5fea03df",
   "metadata": {},
   "outputs": [],
   "source": [
    "import random\n",
    "\n",
    "n = 0\n",
    "a = 0\n",
    "b = 0\n",
    "mult = 0\n",
    "resp = 0\n",
    "\n",
    "n = int(input(\"How many multiplications will be given?: \"))\n",
    "for i in range(n):\n",
    "    a = random.randrange(2,11)\n",
    "    b = random.randrange(2,11)\n",
    "    mult = a * b\n",
    "    resp = int(input(\"Which is the result of \" + str(a) + \" x \" + str(b) + \"?: \"))\n",
    "    if mult == resp:\n",
    "        print(f\"Right, the result is {mult}.\")\n",
    "    else:\n",
    "        print(f\"incorrect result. The result is {mult}.\")\n",
    "print(\"Perfect.\")"
   ]
  },
  {
   "cell_type": "markdown",
   "id": "2b1a82e0",
   "metadata": {},
   "source": [
    "### Exercise 3\n",
    "\n",
    "Extend the previous program so that it keeps track of the correct and incorrect answers and displays the corresponding score.\n",
    "If the score is equal to or greater than 9, the program will congratulate the user on the result."
   ]
  },
  {
   "cell_type": "code",
   "execution_count": null,
   "id": "5a239afe",
   "metadata": {},
   "outputs": [],
   "source": [
    "import random\n",
    "\n",
    "n = 0\n",
    "a = 0\n",
    "b = 0\n",
    "mult = 0\n",
    "resp = 0\n",
    "bien = 0\n",
    "mal = 0\n",
    "\n",
    "n = int(input(\"How many multiplications will be given?: \"))\n",
    "for i in range(n):\n",
    "    a = random.randrange(2,11)\n",
    "    b = random.randrange(2,11)\n",
    "    mult = a * b\n",
    "    resp = int(input(\"Which is the result of \" + str(a) + \" x \" + str(b) + \"?: \"))\n",
    "    if mult == resp:\n",
    "        bien += 1\n",
    "        print(f\"Right, the result is {mult}.\")\n",
    "    else:\n",
    "        mal += 1\n",
    "        print(f\"incorrect result. The result is {mult}.\")\n",
    "print(\"\")\n",
    "print(f\"You have {bien} rights y {mal} wrong.\")\n",
    "nota = (bien / n) * 10\n",
    "if nota >= 9:\n",
    "    print(f\"Congratulation, your score is:  {nota}.\")\n",
    "else:\n",
    "    print(f\"Your score is: {nota}. You can do it better.\")"
   ]
  },
  {
   "cell_type": "markdown",
   "id": "e4402f00",
   "metadata": {},
   "source": [
    "# B. Estimated calculation"
   ]
  },
  {
   "cell_type": "markdown",
   "id": "1f64f6a5",
   "metadata": {},
   "source": [
    "### Exercise 1\n",
    "\n",
    "Write a program that generates a multiplication of two random numbers from 11 to 99, asks for the result, and indicates whether the answer is correct, within 10% of the correct value, or within 30%."
   ]
  },
  {
   "cell_type": "code",
   "execution_count": null,
   "id": "5dc31ae8",
   "metadata": {},
   "outputs": [],
   "source": [
    "import random\n",
    "\n",
    "n = 0\n",
    "a = 0\n",
    "b = 0\n",
    "mult = 0\n",
    "\n",
    "a = random.randrange(11,100)\n",
    "b = random.randrange(11,100)\n",
    "mult = a * b\n",
    "n = int(input(f\"What is the value of the following multiplication {a}x{b}?: \"))\n",
    "if n == mult:\n",
    "    print(\"The answer is right.\")\n",
    "else:\n",
    "    if abs((n-mult)/mult) < 0.10: \n",
    "        print(f\"The answer is within 10% of the actual value. Correct value:: {mult}.\")\n",
    "    elif abs((n-mult)/mult) < 0.30:\n",
    "        print(f\"The value is within 30% of the correct answer. Correct value: {mult}.\")\n",
    "    else:\n",
    "        print(f\"You are far from the correct value. Correct value: {mult}.\")\n"
   ]
  },
  {
   "cell_type": "markdown",
   "id": "517d9900",
   "metadata": {},
   "source": [
    "### Exercise 2\n",
    "\n",
    "Expand the previous program so that it first asks the user how many multiplications will be presented."
   ]
  },
  {
   "cell_type": "code",
   "execution_count": null,
   "id": "fda47b73",
   "metadata": {},
   "outputs": [],
   "source": [
    "import random\n",
    "\n",
    "m = 0\n",
    "n = 0\n",
    "a = 0\n",
    "b = 0\n",
    "mult = 0\n",
    "\n",
    "a = random.randrange(11,100)\n",
    "b = random.randrange(11,100)\n",
    "\n",
    "mult = a * b\n",
    "\n",
    "m = int(input(\"How many multiplications will be performed?: \"))\n",
    "if m > 0:\n",
    "    for i in range(m):\n",
    "        a = random.randrange(11,100)\n",
    "        b = random.randrange(11,100)\n",
    "        mult = a * b\n",
    "        n = int(input(f\"¿What is the value of the following multiplication {a}x{b}?: \"))\n",
    "        if n == mult:\n",
    "            print(\"The answer is right.\")\n",
    "        else:\n",
    "            if abs((n-mult)/mult) < 0.10: \n",
    "                print(f\"The answer is within 10% of the actual value. Correct value: {mult}.\")\n",
    "            elif abs((n-mult)/mult) < 0.30:\n",
    "                print(f\"The value is within 30% of the correct answer. Correct value: {mult}.\")\n",
    "            else:\n",
    "                print(f\"You are far from the correct value. Correct value: {mult}.\")\n",
    "else:\n",
    "    print(\"The value must be greater than zero.\")"
   ]
  },
  {
   "cell_type": "markdown",
   "id": "403c239e",
   "metadata": {},
   "source": [
    "### Exercise 3\n",
    "\n",
    "Extend the previous program so that it keeps track of the correct and incorrect answers and indicates the corresponding score. If the score is equal to or greater than 9, the program will congratulate the user for the result.\n",
    "\n",
    "If the answer is correct, it will count as 1.\n",
    "\n",
    "If it is within less than 10% of the correct answer, it will count as 0.66.\n",
    "\n",
    "If it is within 10% to 30% of the correct answer, it will count as 0.33.\n",
    "\n",
    "If it is more than 30% away from the correct answer, it will count as 0."
   ]
  },
  {
   "cell_type": "code",
   "execution_count": null,
   "id": "aa064af8",
   "metadata": {},
   "outputs": [],
   "source": [
    "import random\n",
    "\n",
    "correct = 0\n",
    "incorrect = 0\n",
    "m = 0\n",
    "n = 0\n",
    "a = 0\n",
    "b = 0\n",
    "mult = 0\n",
    "\n",
    "a = random.randrange(11,100)\n",
    "b = random.randrange(11,100)\n",
    "\n",
    "mult = a * b\n",
    "\n",
    "m = int(input(\"How many multiplications will be performed?: \"))\n",
    "if m > 0:\n",
    "    for i in range(m):\n",
    "        a = random.randrange(11,100)\n",
    "        b = random.randrange(11,100)\n",
    "        mult = a * b\n",
    "        n = int(input(f\"¿What is the value of the following multiplication {a}x{b}?: \"))\n",
    "        if n == mult:\n",
    "            correct =+ 1\n",
    "            print(\"The answer is right.\")\n",
    "        else:\n",
    "            if abs((n-mult)/mult) < 0.10: \n",
    "                incorrect =+ 0.66\n",
    "                print(f\"The answer is within 10% of the actual value. Correct value: {mult}.\")\n",
    "            elif abs((n-mult)/mult) < 0.30:\n",
    "                incorrect =+ 0.33\n",
    "                print(f\"The value is within 30% of the correct answer. Correct value: {mult}.\")\n",
    "            else:\n",
    "                incorrect =+ 0\n",
    "                print(f\"You are far from the correct value. Correct value: {mult}.\")\n",
    "else:\n",
    "    print(\"The value must be greater than zero.\")\n",
    "\n",
    "if correct >= 9:\n",
    "    print(f'Congratulation, your score is: {correct}')\n",
    "else:\n",
    "    print('Sorry, you can do it better.')\n"
   ]
  }
 ],
 "metadata": {
  "kernelspec": {
   "display_name": "Python 3",
   "language": "python",
   "name": "python3"
  },
  "language_info": {
   "codemirror_mode": {
    "name": "ipython",
    "version": 3
   },
   "file_extension": ".py",
   "mimetype": "text/x-python",
   "name": "python",
   "nbconvert_exporter": "python",
   "pygments_lexer": "ipython3",
   "version": "3.13.5"
  }
 },
 "nbformat": 4,
 "nbformat_minor": 5
}
