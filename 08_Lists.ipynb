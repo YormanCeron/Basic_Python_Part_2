{
 "cells": [
  {
   "cell_type": "markdown",
   "id": "15823ba8-cb85-4004-b6c6-bef3bcaf07da",
   "metadata": {},
   "source": [
    "### Exercise 1\n",
    "\n",
    "Write a program that allows creating a list of words. To do this, the program must ask for a number and then request that number of words to create the list. Finally, the program must display the list."
   ]
  },
  {
   "cell_type": "code",
   "execution_count": null,
   "id": "acfba10e-3e2a-4c27-9dc8-a04d1cf48be8",
   "metadata": {},
   "outputs": [],
   "source": [
    "n = 0\n",
    "palabra = \"\"\n",
    "lista = []\n",
    "\n",
    "n = int(input(\"How many words do you want to enter?: \"))\n",
    "if n > 0:\n",
    "    for i in range(n):\n",
    "        palabra = str(input(f\"input the word {i+1}: \"))\n",
    "        lista += [palabra]\n",
    "    print(f\"The list is: {lista}\")\n",
    "else:\n",
    "    print(\"The value must be greater than zero.\")"
   ]
  },
  {
   "cell_type": "markdown",
   "id": "ade611a5-6dc6-45a0-abf2-928c2609b898",
   "metadata": {},
   "source": [
    "### Exercise 2\n",
    "\n",
    "Write a program that allows creating a list of words and then asks for a word and tells how many times that word appears in the list."
   ]
  },
  {
   "cell_type": "code",
   "execution_count": null,
   "id": "37651039-c9de-4c30-a30f-28025f1c6b31",
   "metadata": {},
   "outputs": [],
   "source": [
    "n = 0\n",
    "m = 0\n",
    "palabra = 0\n",
    "lista = []\n",
    "cont = 0\n",
    "\n",
    "n = int(input(\"How many words do you want to enter?: \"))\n",
    "if n > 0:\n",
    "    for i in range(n):\n",
    "        palabra = str(input(f\"input the word {i+1}: \"))\n",
    "        lista += [palabra]\n",
    "    print(f\"The list is: {lista}\")\n",
    "    print(\"\")\n",
    "    m = input(\"Word to search: \")\n",
    "    print(f\"The word {m} repeats {lista.count(m)} times.\")\n",
    "else:\n",
    "    print(\"The value must be greater than zero.\")"
   ]
  },
  {
   "cell_type": "markdown",
   "id": "27c24c3b-e3bb-49f4-98a1-6a07365c6cd6",
   "metadata": {},
   "source": [
    "### Exercise 3\n",
    "\n",
    "Write a program that allows creating a list of words and then asks for two words, replacing the first with the second in the list."
   ]
  },
  {
   "cell_type": "code",
   "execution_count": null,
   "id": "1706fb2c-9362-4506-a738-75c1cc86cbbd",
   "metadata": {},
   "outputs": [],
   "source": [
    "n = 0\n",
    "eliminar = []\n",
    "agregar = []\n",
    "palabra = 0\n",
    "lista = []\n",
    "\n",
    "n = int(input(\"How many words do you want to enter?: \"))\n",
    "if n > 0:\n",
    "    for i in range(n):\n",
    "        palabra = str(input(f\"input the word {i+1}: \"))\n",
    "        lista += [palabra]\n",
    "    print(f\"The list is: {lista}\")\n",
    "    print(\"\")\n",
    "    eliminar = str(input(\"Replace the word: \"))\n",
    "    agregar = str(input(\"With the worda: \"))\n",
    "    for i in range(len(lista)):\n",
    "        if lista[i] == eliminar:\n",
    "            lista[i] = agregar\n",
    "    print(f\"The new list is: {lista}\")\n",
    "else:\n",
    "    print(\"The value must be greater than zero.\")"
   ]
  },
  {
   "cell_type": "markdown",
   "id": "a6f13554-7f19-429c-a569-aaba45c1484f",
   "metadata": {},
   "source": [
    "### Exercise 4\n",
    "\n",
    "Write a program that allows creating a list of words and then asks for a word and removes that word from the list."
   ]
  },
  {
   "cell_type": "code",
   "execution_count": null,
   "id": "3dce14bb-e411-4888-9e24-ba0faa3a5e5d",
   "metadata": {},
   "outputs": [],
   "source": [
    "n = 0\n",
    "palabra = 0\n",
    "eliminar = 0\n",
    "lista = []\n",
    "\n",
    "n = int(input(\"How many words do you want to enter?: \"))\n",
    "if n > 0:\n",
    "    for i in range(n):\n",
    "        palabra = str(input(f\"input the word {i+1}: \"))\n",
    "        lista += [palabra]\n",
    "    print(f\"The list is: {lista}\")\n",
    "    print(\"\")\n",
    "    eliminar = str(input(\"What word do you want to delete?: \"))\n",
    "    for i in range(len(lista)-1,-1,-1):\n",
    "        if lista[i] == eliminar:\n",
    "            del lista[i]\n",
    "    print(f\"The new list is: {lista}\")\n",
    "else:\n",
    "    print(\"The value must be greater than zero.\")"
   ]
  },
  {
   "cell_type": "markdown",
   "id": "eb4d3569-2bbf-47a3-aeac-2008ab27e3d8",
   "metadata": {},
   "source": [
    "### Exercise 5\n",
    "\n",
    "Write a program that allows creating two lists of words and then removes from the first list the names from the second list."
   ]
  },
  {
   "cell_type": "code",
   "execution_count": null,
   "id": "4eddf025-d6df-449e-b1c8-b476bd0c2a5f",
   "metadata": {},
   "outputs": [],
   "source": [
    "n = 0\n",
    "m = 0\n",
    "palabra = 0\n",
    "lista1 = []\n",
    "lista2 = []\n",
    "\n",
    "n = int(input(\"How many words do you want to enter in list 1?: \"))\n",
    "m = int(input(\"How many words do you want to enter in list 2?: \"))\n",
    "print(\"\")\n",
    "if n > 0 and m > 0:\n",
    "    for i in range(n):\n",
    "        palabra = str(input(f\"Input the word {i+1} to list 1: \"))\n",
    "        lista1 += [palabra]\n",
    "    print(f\"list 1 is:: {lista1}\")\n",
    "    print(\"\")\n",
    "    for i in range(m):\n",
    "        palabra = str(input(f\"Input the word {i+1} to list 2: \"))\n",
    "        lista2 += [palabra]\n",
    "    print(f\"List 2 is: {lista2}\")\n",
    "    print(\"\")\n",
    "    for i in range(len(lista1)-1,-1,-1):\n",
    "        for j in range(len(lista2)-1,-1,-1):\n",
    "            if lista1[i] == lista2[j]:\n",
    "                del lista1[i]\n",
    "    print(f\"The list 1 is now: {lista1}\")\n",
    "else:\n",
    "    print(\"The value must be greater than zero.\")"
   ]
  },
  {
   "cell_type": "markdown",
   "id": "e3e3f7b3-91cb-44cd-be99-5ce4be6b8796",
   "metadata": {},
   "source": [
    "### Exercise 6\n",
    "\n",
    "Write a program that allows creating a list of words and then creates a second list identical to the first one, but in reverse order (this is not about displaying the list in reverse, but about creating a different list)."
   ]
  },
  {
   "cell_type": "code",
   "execution_count": null,
   "id": "b57b5177-720e-4817-bad2-45f3655f2309",
   "metadata": {},
   "outputs": [],
   "source": [
    "### n = 0\n",
    "palabra = 0\n",
    "lista1 = []\n",
    "lista2 = []\n",
    "\n",
    "n = int(input(\"How many words do you want to enter?: \"))\n",
    "if n > 0:\n",
    "    for i in range(n):\n",
    "        palabra = str(input(f\"Input the word {i+1}: \"))\n",
    "        lista1 += [palabra]\n",
    "    print(f\"The list is: {lista1}\")\n",
    "    print(\"\")\n",
    "    lista2 = lista1.copy()\n",
    "    lista2.reverse()\n",
    "    print(f\"The reversed list is: {lista2}\")\n",
    "else:\n",
    "    print(\"The value must be greater than zero.\")"
   ]
  },
  {
   "cell_type": "markdown",
   "id": "7760b88a-1b9c-4262-b183-e97d58cb5e03",
   "metadata": {},
   "source": [
    "### Exercise 7\n",
    "\n",
    "Write a program that allows creating a list of words and then removes the repeated elements (keeping only the first occurrence of each repeated element)."
   ]
  },
  {
   "cell_type": "code",
   "execution_count": null,
   "id": "b3ec5e7a-55c2-4fcd-a465-396e699d994d",
   "metadata": {},
   "outputs": [],
   "source": [
    "n = 0\n",
    "palabra = 0\n",
    "lista = []\n",
    "\n",
    "n = int(input(\"How many words do you want to enter?: \"))\n",
    "if n > 0:\n",
    "    for i in range(n):\n",
    "        palabra = str(input(f\"Input the word {i+1}: \"))\n",
    "        lista += [palabra]\n",
    "    print(f\"The list is: {lista}\")\n",
    "    lista = list(set(lista))\n",
    "    print(f\"The new list is: {lista}\")\n",
    "    \n",
    "else:\n",
    "    print(\"The value must be greater than zero.\")"
   ]
  }
 ],
 "metadata": {
  "kernelspec": {
   "display_name": "Python 3",
   "language": "python",
   "name": "python3"
  },
  "language_info": {
   "codemirror_mode": {
    "name": "ipython",
    "version": 3
   },
   "file_extension": ".py",
   "mimetype": "text/x-python",
   "name": "python",
   "nbconvert_exporter": "python",
   "pygments_lexer": "ipython3",
   "version": "3.13.5"
  },
  "toc-autonumbering": false,
  "toc-showcode": false,
  "toc-showmarkdowntxt": false
 },
 "nbformat": 4,
 "nbformat_minor": 5
}
