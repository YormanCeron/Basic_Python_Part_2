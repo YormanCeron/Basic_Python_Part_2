{
 "cells": [
  {
   "cell_type": "markdown",
   "id": "f9cae737-2b3e-4b1f-97cf-b89aef0499cb",
   "metadata": {},
   "source": [
    "### Exercise 1\n",
    "\n",
    "Write a program that repeatedly asks whether the user wants to continue with the program, as long as the answer is exactly “Yes” (in lowercase and with an accent)."
   ]
  },
  {
   "cell_type": "code",
   "execution_count": null,
   "id": "033d7083-ecc6-4d01-a4e5-fa8de7dae2fb",
   "metadata": {},
   "outputs": [],
   "source": [
    "pregunta = \"\"\n",
    "\n",
    "pregunta = input(str(\"Do you want to continue with the program?: \"))\n",
    "while pregunta != \"Yes\":\n",
    "    pregunta = input(str(\"Do you want to continue with the program?: \"))\n",
    "print(\"Thank you.\")\n"
   ]
  },
  {
   "cell_type": "markdown",
   "id": "37863ec0-cdb8-44c8-b538-fa2c0442246c",
   "metadata": {},
   "source": [
    "### Exercise 2\n",
    "\n",
    "Write a program that repeatedly asks if you want to terminate the program, unless the answer is exactly YES (in uppercase and without an accent)."
   ]
  },
  {
   "cell_type": "code",
   "execution_count": null,
   "id": "ea986acf-a709-4d40-8987-4dea699fe21d",
   "metadata": {},
   "outputs": [],
   "source": [
    "pregunta = \"\"\n",
    "\n",
    "pregunta = input(str(\"Do you want to finish with the program?\"))\n",
    "while pregunta != \"YES\":\n",
    "    pregunta = input(str(\"Do you want to finish with the program?\"))\n",
    "print(\"Thank you\")\n",
    "\n"
   ]
  },
  {
   "cell_type": "markdown",
   "id": "ed358ec4-456b-4aeb-9cb6-f08787573fad",
   "metadata": {},
   "source": [
    "### Exercise 3\n",
    "\n",
    "Write a program that repeatedly asks if you want to continue with the program, as long as the answer is Y or y (in uppercase or lowercase)."
   ]
  },
  {
   "cell_type": "code",
   "execution_count": null,
   "id": "7437c67a-605f-41ac-a830-a891b8253bb3",
   "metadata": {},
   "outputs": [],
   "source": [
    "pregunta = \"\"\n",
    "\n",
    "pregunta = input(str(\"Do you want to finish with the program?\"))\n",
    "while pregunta != \"yes\":\n",
    "    while pregunta != \"Yes\":\n",
    "        pregunta = input(str(\"Do you want to finish with the program?\"))\n",
    "print(\"Thank you.\")"
   ]
  }
 ],
 "metadata": {
  "kernelspec": {
   "display_name": "Python 3",
   "language": "python",
   "name": "python3"
  },
  "language_info": {
   "codemirror_mode": {
    "name": "ipython",
    "version": 3
   },
   "file_extension": ".py",
   "mimetype": "text/x-python",
   "name": "python",
   "nbconvert_exporter": "python",
   "pygments_lexer": "ipython3",
   "version": "3.8.8"
  }
 },
 "nbformat": 4,
 "nbformat_minor": 5
}
